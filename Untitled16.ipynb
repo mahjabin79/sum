{
  "nbformat": 4,
  "nbformat_minor": 0,
  "metadata": {
    "colab": {
      "provenance": []
    },
    "kernelspec": {
      "name": "python3",
      "display_name": "Python 3"
    },
    "language_info": {
      "name": "python"
    }
  },
  "cells": [
    {
      "cell_type": "code",
      "execution_count": 2,
      "metadata": {
        "id": "vyno8utQAFsY",
        "colab": {
          "base_uri": "https://localhost:8080/"
        },
        "outputId": "634d2586-262f-4dcb-efd6-eba86a984af9"
      },
      "outputs": [
        {
          "output_type": "execute_result",
          "data": {
            "text/plain": [
              "3"
            ]
          },
          "metadata": {},
          "execution_count": 2
        }
      ],
      "source": [
        "1+2\n",
        "\n"
      ]
    },
    {
      "cell_type": "code",
      "source": [],
      "metadata": {
        "id": "a_ynDKmGAJZT"
      },
      "execution_count": null,
      "outputs": []
    }
  ]
}